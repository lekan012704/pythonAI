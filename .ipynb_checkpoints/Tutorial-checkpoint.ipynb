{
 "cells": [
  {
   "cell_type": "code",
   "execution_count": 1,
   "id": "855cfde1-0d67-4331-bdff-426d6a466a58",
   "metadata": {},
   "outputs": [
    {
     "name": "stdout",
     "output_type": "stream",
     "text": [
      "Hello, World\n"
     ]
    }
   ],
   "source": [
    "print(\"Hello, World\")\n"
   ]
  },
  {
   "cell_type": "code",
   "execution_count": 2,
   "id": "150cd7e2-bc8f-4764-afd9-0ba9d2294a3e",
   "metadata": {},
   "outputs": [
    {
     "name": "stdout",
     "output_type": "stream",
     "text": [
      "My favorite drink is Earl Grey tea.\n"
     ]
    }
   ],
   "source": [
    "print(\"My favorite drink is Earl Grey tea.\")\n"
   ]
  },
  {
   "cell_type": "code",
   "execution_count": 4,
   "id": "92eb978f-e05c-44f0-a929-dd5932d6e645",
   "metadata": {},
   "outputs": [
    {
     "name": "stdout",
     "output_type": "stream",
     "text": [
      "¯\\_(ツ)_/¯\n"
     ]
    },
    {
     "name": "stderr",
     "output_type": "stream",
     "text": [
      "<>:1: SyntaxWarning: invalid escape sequence '\\_'\n",
      "<>:1: SyntaxWarning: invalid escape sequence '\\_'\n",
      "C:\\Users\\PREDATOR\\AppData\\Local\\Temp\\ipykernel_26080\\3495690502.py:1: SyntaxWarning: invalid escape sequence '\\_'\n",
      "  print(\"¯\\_(ツ)_/¯\")\n"
     ]
    }
   ],
   "source": [
    "print(\"¯\\_(ツ)_/¯\")"
   ]
  },
  {
   "cell_type": "code",
   "execution_count": 5,
   "id": "2d326c78-6096-4ce0-8bd7-19a6a69a6b93",
   "metadata": {},
   "outputs": [
    {
     "name": "stdout",
     "output_type": "stream",
     "text": [
      "2.99\n"
     ]
    }
   ],
   "source": [
    "print(\"2.99\")\n"
   ]
  },
  {
   "cell_type": "code",
   "execution_count": 6,
   "id": "0c48d873-a339-4d1d-a763-b6eb75544bc4",
   "metadata": {},
   "outputs": [
    {
     "name": "stdout",
     "output_type": "stream",
     "text": [
      "Hello, World!\n",
      "      It's great to be here!\n"
     ]
    }
   ],
   "source": [
    "print(\"\"\"Hello, World!\n",
    "      It's great to be here!\"\"\")"
   ]
  },
  {
   "cell_type": "code",
   "execution_count": 9,
   "id": "c22c0b1b-737b-4c51-969c-1fe1545234fa",
   "metadata": {},
   "outputs": [
    {
     "name": "stdout",
     "output_type": "stream",
     "text": [
      "Hello, World!It's great to be here!\n"
     ]
    }
   ],
   "source": [
    "print(\"Hello, World!It's great to be here!\")\n"
   ]
  },
  {
   "cell_type": "code",
   "execution_count": 8,
   "id": "c1f13f1a-f033-4bde-aeff-84000588c65c",
   "metadata": {},
   "outputs": [
    {
     "data": {
      "text/plain": [
       "str"
      ]
     },
     "execution_count": 8,
     "metadata": {},
     "output_type": "execute_result"
    }
   ],
   "source": [
    "type(\"Andrew\")\n"
   ]
  },
  {
   "cell_type": "code",
   "execution_count": 10,
   "id": "8a5b4c17-ec0c-4b32-a4f1-e26983476774",
   "metadata": {},
   "outputs": [
    {
     "data": {
      "text/plain": [
       "str"
      ]
     },
     "execution_count": 10,
     "metadata": {},
     "output_type": "execute_result"
    }
   ],
   "source": [
    "\n",
    "type(\"\"\"\n",
    "Numbers, text, and truth,\n",
    "Strings, ints, and floats in our code,\n",
    "Data shapes our path\n",
    "\"\"\")"
   ]
  },
  {
   "cell_type": "code",
   "execution_count": 11,
   "id": "5a0103b3-d68e-4926-b2cd-c6df4eb2c501",
   "metadata": {},
   "outputs": [
    {
     "data": {
      "text/plain": [
       "int"
      ]
     },
     "execution_count": 11,
     "metadata": {},
     "output_type": "execute_result"
    }
   ],
   "source": [
    "type(100)\n"
   ]
  },
  {
   "cell_type": "code",
   "execution_count": 12,
   "id": "205f9d51-b376-4449-b45a-42dcb1380142",
   "metadata": {},
   "outputs": [
    {
     "data": {
      "text/plain": [
       "float"
      ]
     },
     "execution_count": 12,
     "metadata": {},
     "output_type": "execute_result"
    }
   ],
   "source": [
    "type(2.99)"
   ]
  },
  {
   "cell_type": "code",
   "execution_count": 13,
   "id": "1fe6f8c3-4b18-4947-8200-d6047151b1e4",
   "metadata": {},
   "outputs": [
    {
     "name": "stdout",
     "output_type": "stream",
     "text": [
      "Complete with chatbot code\n"
     ]
    }
   ],
   "source": [
    "print(\"Complete with chatbot code\")\n"
   ]
  },
  {
   "cell_type": "code",
   "execution_count": 14,
   "id": "cf5b455b-5e00-4f56-adc8-1ab1e9757560",
   "metadata": {},
   "outputs": [
    {
     "name": "stdout",
     "output_type": "stream",
     "text": [
      "There are 366 days in a leap year\n"
     ]
    }
   ],
   "source": [
    "print(\"There are 366 days in a leap year\")\n"
   ]
  },
  {
   "cell_type": "code",
   "execution_count": 15,
   "id": "26261aa8-aaf5-4bb9-9eaa-ef84613a95ab",
   "metadata": {},
   "outputs": [
    {
     "name": "stdout",
     "output_type": "stream",
     "text": [
      "6 feet is equal to 1.8288000000000002 meters\n"
     ]
    }
   ],
   "source": [
    "\n",
    "feet_to_meters = 0.3048\n",
    "\n",
    "\n",
    "feet = 6\n",
    "\n",
    "# Convert feet to meters\n",
    "meters = feet * feet_to_meters\n",
    "# Formated String\n",
    "print(f\"{feet} feet is equal to {meters} meters\")\n"
   ]
  },
  {
   "cell_type": "code",
   "execution_count": 16,
   "id": "e07482d0-ad7e-4369-b771-7c30df58996b",
   "metadata": {},
   "outputs": [
    {
     "name": "stdout",
     "output_type": "stream",
     "text": [
      "23.88888888888889\n"
     ]
    }
   ],
   "source": [
    "print(((75 - 32) * 5 / 9))\n"
   ]
  },
  {
   "cell_type": "code",
   "execution_count": 17,
   "id": "faf4b121-3b45-443b-9283-301e8213deb9",
   "metadata": {},
   "outputs": [
    {
     "name": "stdout",
     "output_type": "stream",
     "text": [
      "The temperature 75F in degrees celsius is 23.88888888888889C\n"
     ]
    }
   ],
   "source": [
    "#Formated String\n",
    "print(f\"The temperature 75F in degrees celsius is {(75 - 32) * 5 / 9}C\")\n"
   ]
  },
  {
   "cell_type": "code",
   "execution_count": 18,
   "id": "6005a55d-fb8c-4b68-838a-bdfd487ade9f",
   "metadata": {},
   "outputs": [
    {
     "name": "stdout",
     "output_type": "stream",
     "text": [
      "Isabel is 28 years old.\n"
     ]
    }
   ],
   "source": [
    "print(\"Isabel is 28 years old.\")\n"
   ]
  },
  {
   "cell_type": "code",
   "execution_count": 19,
   "id": "b294ea72-63a6-42bf-9185-2b4f33d59c64",
   "metadata": {},
   "outputs": [
    {
     "name": "stdout",
     "output_type": "stream",
     "text": [
      "Isabel is 4.0 dog years old.\n"
     ]
    }
   ],
   "source": [
    "print(f\"Isabel is {28/7} dog years old.\")\n"
   ]
  },
  {
   "cell_type": "code",
   "execution_count": 20,
   "id": "def0693d-2a55-4fc3-a98c-42077dbb5bbe",
   "metadata": {},
   "outputs": [
    {
     "name": "stdout",
     "output_type": "stream",
     "text": [
      "Isabel is 4 dog years old.\n"
     ]
    }
   ],
   "source": [
    "print(f\"Isabel is {28/7:.0f} dog years old.\")\n"
   ]
  },
  {
   "cell_type": "code",
   "execution_count": 21,
   "id": "363eed31-5338-4692-bdd8-6ad03261ac4b",
   "metadata": {},
   "outputs": [
    {
     "name": "stdout",
     "output_type": "stream",
     "text": [
      "\n",
      "    Most countries use the metric system for recipe measurement, \n",
      "    but American bakers use a different system. For example, they use \n",
      "    fluid ounces to measure liquids instead of milliliters (ml).\n",
      "    \n",
      "    So you need to convert recipe units to your local measuring system!\n",
      "    \n",
      "    For example, 8 fluid ounces of milk is 236.588 ml.\n",
      "    And 100ml of water is 3.381405650328842 fluid ounces.\n",
      "\n"
     ]
    }
   ],
   "source": [
    "print(f\"\"\"\n",
    "    Most countries use the metric system for recipe measurement, \n",
    "    but American bakers use a different system. For example, they use \n",
    "    fluid ounces to measure liquids instead of milliliters (ml).\n",
    "    \n",
    "    So you need to convert recipe units to your local measuring system!\n",
    "    \n",
    "    For example, 8 fluid ounces of milk is {8 * 29.5735} ml.\n",
    "    And 100ml of water is {100 / 29.5735} fluid ounces.\n",
    "\"\"\")"
   ]
  },
  {
   "cell_type": "code",
   "execution_count": 22,
   "id": "36f0b805-f893-4371-8b11-c87add38913f",
   "metadata": {},
   "outputs": [
    {
     "name": "stdout",
     "output_type": "stream",
     "text": [
      "I am 20 years old.\n"
     ]
    }
   ],
   "source": [
    "print(f\"I am {20} years old.\")\n"
   ]
  },
  {
   "cell_type": "code",
   "execution_count": 24,
   "id": "86b07da4-37aa-40a8-9fa6-0a8461f95993",
   "metadata": {},
   "outputs": [
    {
     "name": "stdout",
     "output_type": "stream",
     "text": [
      "There are 52.142857142857146 weeks in a year\n"
     ]
    }
   ],
   "source": [
    "print(f\"There are {365/7} weeks in a year\")"
   ]
  },
  {
   "cell_type": "code",
   "execution_count": 26,
   "id": "a0e8821d-3cc2-4d43-8299-94533742c5b7",
   "metadata": {},
   "outputs": [
    {
     "name": "stdout",
     "output_type": "stream",
     "text": [
      "The area of a square with side 5 cm is 25 cm squared.\n"
     ]
    }
   ],
   "source": [
    "print(f\"The area of a square with side 5 cm is {5*5} cm squared.\")\n"
   ]
  },
  {
   "cell_type": "code",
   "execution_count": 27,
   "id": "00824e85-d8ae-437a-97a1-65c5fdc6875f",
   "metadata": {},
   "outputs": [
    {
     "name": "stdout",
     "output_type": "stream",
     "text": [
      "The house was a good size: 1200 square feet, or 111.4836 meters squared!\n"
     ]
    }
   ],
   "source": [
    "print(f\"The house was a good size: 1200 square feet, or {1200 * 0.092903} meters squared!\")\n"
   ]
  },
  {
   "cell_type": "code",
   "execution_count": 28,
   "id": "46b19a17-08e6-4dea-8b97-1adaad5f488a",
   "metadata": {},
   "outputs": [
    {
     "name": "stdout",
     "output_type": "stream",
     "text": [
      "28\n"
     ]
    }
   ],
   "source": [
    "age = 28\n",
    "print(age)"
   ]
  },
  {
   "cell_type": "code",
   "execution_count": 29,
   "id": "81754e21-91f8-41e3-bf3e-fd4a3c8867e0",
   "metadata": {},
   "outputs": [
    {
     "name": "stdout",
     "output_type": "stream",
     "text": [
      "Name: Otto\n",
      "Gnome height: 12.7\n"
     ]
    }
   ],
   "source": [
    "name = \"Otto\"\n",
    "gnome_height = 12.7\n",
    "print(f\"Name: {name}\")\n",
    "print(f\"Gnome height: {gnome_height}\")\n"
   ]
  },
  {
   "cell_type": "code",
   "execution_count": 33,
   "id": "eb9e536f-c27d-439a-ace1-a015a2dc1bdf",
   "metadata": {},
   "outputs": [
    {
     "name": "stdout",
     "output_type": "stream",
     "text": [
      "0\n",
      "50\n",
      "150\n",
      "450\n"
     ]
    }
   ],
   "source": [
    "score = 0 # now score is 0\n",
    "print(score)\n",
    "\n",
    "score = score + 50 # now score is 0 + 50 which is 50\n",
    "print(score)\n",
    "\n",
    "score = score + 100 # now score is 100 + 50 which is 150\n",
    "print(score)\n",
    "\n",
    "score = score + 300 # now score is 150 + 300 which is 450\n",
    "print(score)\n",
    "\n"
   ]
  },
  {
   "cell_type": "code",
   "execution_count": 34,
   "id": "46d80a59-af31-4240-a63d-c5fac380624d",
   "metadata": {},
   "outputs": [
    {
     "name": "stdout",
     "output_type": "stream",
     "text": [
      "Otto's dog age is 7.0. So a dog that's about\n",
      "7.0 would be the same age as Otto. Any dog born about 7.0\n",
      "years ago would be in the same stage of life as Otto.\n"
     ]
    }
   ],
   "source": [
    "\n",
    "print(f\"\"\"Otto's dog age is {49/7}. So a dog that's about\n",
    "{49/7} would be the same age as Otto. Any dog born about {49/7}\n",
    "years ago would be in the same stage of life as Otto.\"\"\")\n"
   ]
  },
  {
   "cell_type": "code",
   "execution_count": 38,
   "id": "a452914a-1317-4ebd-983e-8d61571bca21",
   "metadata": {},
   "outputs": [
    {
     "name": "stdout",
     "output_type": "stream",
     "text": [
      "Otto's dog age is 7.142857142857143. So a dog that's about\n",
      "7.142857142857143 would be the same age as Otto. Any dog born about 7.142857142857143\n",
      "years ago would be in the same stage of life as Otto.\n",
      "Otto's dog age is 7.142857142857143. So a dog that's about\n",
      "7.142857142857143 would be the same age as Otto. Any dog born about 7.142857142857143\n",
      "years ago would be in the same stage of life as Otto.\n",
      "Otto Matic's dog age is 7.142857142857143. So a dog that's about\n",
      "7.142857142857143 would be the same age as Otto Matic. Any dog born about 7.142857142857143\n",
      "years ago would be in the same stage of life as Otto Matic.\n",
      "Lekan\n",
      "Your favorite number plus 10 is 40\n",
      "I have visited 30 countries. I plan to visit 20 more countries, \n",
      "      and when I'm done I will have visited 50 countries.\n"
     ]
    }
   ],
   "source": [
    "\n",
    "dog_age = 50/7\n",
    "\n",
    "\n",
    "\n",
    "print(f\"\"\"Otto's dog age is {dog_age}. So a dog that's about\n",
    "{dog_age} would be the same age as Otto. Any dog born about {dog_age}\n",
    "years ago would be in the same stage of life as Otto.\"\"\")\n",
    "\n",
    "print(f\"\"\"{name}'s dog age is {dog_age}. So a dog that's about\n",
    "{dog_age} would be the same age as {name}. Any dog born about {dog_age}\n",
    "years ago would be in the same stage of life as {name}.\"\"\")\n",
    "\n",
    "name = \"Otto Matic\"\n",
    "\n",
    "print(f\"\"\"{name}'s dog age is {dog_age}. So a dog that's about\n",
    "{dog_age} would be the same age as {name}. Any dog born about {dog_age}\n",
    "years ago would be in the same stage of life as {name}.\"\"\")\n",
    "\n",
    "# Create a variable called 'my_name' and assign it the value of your name as a string.\n",
    "# Then print out a greeting using the variable, like \"Hello, Andrew!\"\n",
    "my_name = \"Lekan\"\n",
    "print(my_name)\n",
    "\n",
    "\n",
    "# In[ ]:\n",
    "\n",
    "\n",
    "fav_num =40 \n",
    "print(f\"Your favorite number plus 10 is {fav_num}\")\n",
    "\n",
    "\n",
    "\n",
    "print(f\"\"\"I have visited {30} countries. I plan to visit {20} more countries, \n",
    "      and when I'm done I will have visited {30+20} countries.\"\"\")\n",
    "\n"
   ]
  },
  {
   "cell_type": "code",
   "execution_count": 45,
   "id": "33932a18-1cb2-4e47-978e-b5dce3c58f14",
   "metadata": {},
   "outputs": [
    {
     "ename": "ModuleNotFoundError",
     "evalue": "No module named 'helper_functions'",
     "output_type": "error",
     "traceback": [
      "\u001b[1;31m---------------------------------------------------------------------------\u001b[0m",
      "\u001b[1;31mModuleNotFoundError\u001b[0m                       Traceback (most recent call last)",
      "Cell \u001b[1;32mIn[45], line 1\u001b[0m\n\u001b[1;32m----> 1\u001b[0m \u001b[38;5;28;01mfrom\u001b[39;00m \u001b[38;5;21;01mhelper_functions\u001b[39;00m \u001b[38;5;28;01mimport\u001b[39;00m print_llm_response\n\u001b[0;32m      2\u001b[0m print_llm_response(\u001b[38;5;124m\"\u001b[39m\u001b[38;5;124mWhat is the capital of France?\u001b[39m\u001b[38;5;124m\"\u001b[39m)\n\u001b[0;32m      3\u001b[0m name \u001b[38;5;241m=\u001b[39m \u001b[38;5;124m\"\u001b[39m\u001b[38;5;124mOtto Matic\u001b[39m\u001b[38;5;124m\"\u001b[39m\n",
      "\u001b[1;31mModuleNotFoundError\u001b[0m: No module named 'helper_functions'"
     ]
    }
   ],
   "source": [
    "from helper_functions import print_llm_response\n",
    "print_llm_response(\"What is the capital of France?\")\n",
    "name = \"Otto Matic\"\n",
    "dog_age = 21/7\n",
    "\n",
    "\n",
    "\n",
    "\n",
    "print_llm_response(f\"\"\"If {name} were a dog, he would be {dog_age} years old.\n",
    "Describe what life stage that would be for a dog and what that might \n",
    "entail in terms of energy level, interests, and behavior.\"\"\")\n",
    "\n",
    "\n",
    "\n",
    "driver = \"unicorn\"\n",
    "drivers_vehicle = \"colorful, asymmetric dinosaur car\"\n",
    "favorite_planet = \"Pluto\"\n",
    "\n",
    "\n",
    "print_llm_response(f\"\"\"Write me a 300 word children's story about a {driver} racing\n",
    "a {drivers_vehicle} for the {favorite_planet} champion cup.\"\"\")\n",
    "\n"
   ]
  },
  {
   "cell_type": "code",
   "execution_count": null,
   "id": "41ba5469-0aae-402d-872e-71796681d73f",
   "metadata": {},
   "outputs": [],
   "source": []
  },
  {
   "cell_type": "code",
   "execution_count": null,
   "id": "d446fcb4-92e9-4325-8cb9-acdcedde2813",
   "metadata": {},
   "outputs": [],
   "source": []
  }
 ],
 "metadata": {
  "kernelspec": {
   "display_name": "Python 3 (ipykernel)",
   "language": "python",
   "name": "python3"
  },
  "language_info": {
   "codemirror_mode": {
    "name": "ipython",
    "version": 3
   },
   "file_extension": ".py",
   "mimetype": "text/x-python",
   "name": "python",
   "nbconvert_exporter": "python",
   "pygments_lexer": "ipython3",
   "version": "3.12.5"
  }
 },
 "nbformat": 4,
 "nbformat_minor": 5
}
